{
  "nbformat": 4,
  "nbformat_minor": 0,
  "metadata": {
    "colab": {
      "name": "MLSTM_FCN_daily_sports.ipynb",
      "version": "0.3.2",
      "provenance": [],
      "toc_visible": true,
      "include_colab_link": true
    },
    "kernelspec": {
      "name": "python3",
      "display_name": "Python 3"
    },
    "accelerator": "GPU"
  },
  "cells": [
    {
      "cell_type": "markdown",
      "metadata": {
        "id": "view-in-github",
        "colab_type": "text"
      },
      "source": [
        "<a href=\"https://colab.research.google.com/github/CharlieBickerton/MLSTM_FCN_daily_sports/blob/master/MLSTM_FCN_daily_sports.ipynb\" target=\"_parent\"><img src=\"https://colab.research.google.com/assets/colab-badge.svg\" alt=\"Open In Colab\"/></a>"
      ]
    },
    {
      "cell_type": "markdown",
      "metadata": {
        "id": "4RlOXEOiXTKM",
        "colab_type": "text"
      },
      "source": [
        "# Using MLSTM-FCN classifier on HAR (sports + daily activities)\n",
        "\n",
        "This is multivariate implementation of an LSTM-FCN in python with tensorFlow.\n",
        "[Paper](https://arxiv.org/pdf/1801.04503.pdf)\n",
        "[code](https://github.com/CharlieBickerton/MLSTM-FCN)\n",
        "\n",
        "First we need to download and unzip the data\n"
      ]
    },
    {
      "cell_type": "markdown",
      "metadata": {
        "id": "siH_xB6Y7q7j",
        "colab_type": "text"
      },
      "source": [
        "Ok so we have 19 different activities (see https://archive.ics.uci.edu/ml/datasets/Daily+and+Sports+Activities for more detailed info).\n",
        "\n",
        "8 subjects (4 male, 4 female), 60 segments each\n",
        "\n",
        "5 units on: torso (T), right arm (RA), left arm (LA), right leg (RL), left leg (LL)\n",
        "\n",
        "9 sensors on each unit (xyz acc, xyz gyro, xyz mag)\n",
        "\n",
        "In each file: \n",
        "\n",
        "## Cols\n",
        "\n",
        "5 units x 9 sesnors = 45\n",
        "\n",
        "T_xacc, T_yacc, T_zacc, T_xgyro, ..., T_ymag, T_zmag, \n",
        "\n",
        "RA_xacc, RA_yacc, RA_zacc, RA_xgyro, ..., RA_ymag, RA_zmag, \n",
        "\n",
        "LA_xacc, LA_yacc, LA_zacc, LA_xgyro, ..., LA_ymag, LA_zmag, \n",
        "\n",
        "RL_xacc, RL_yacc, RL_zacc, RL_xgyro, ..., RL_ymag, RL_zmag, \n",
        "\n",
        "LL_xacc, LL_yacc, LL_zacc, LL_xgyro, ..., LL_ymag, LL_zmag. \n",
        "\n",
        "\n",
        "## Rows\n",
        "\n",
        "5 sec x 25Hz = 125 rows. \n",
        "\n",
        "So the full 5 mins session is the combination of all the segments.\n",
        "\n",
        "\n"
      ]
    },
    {
      "cell_type": "markdown",
      "metadata": {
        "id": "YqvvLMo3Jz6B",
        "colab_type": "text"
      },
      "source": [
        "Luckily the author of the paper has already worked on the dataset and has preprocessed dataset [multivariate LSTM github page](https://github.com/titu1994/MLSTM-FCN)\n",
        "\n",
        "It is split 50-50 in training and test data. "
      ]
    },
    {
      "cell_type": "code",
      "metadata": {
        "id": "ZWvZWI_MD7bV",
        "colab_type": "code",
        "colab": {}
      },
      "source": [
        "# download the data \n",
        "! wget https://github.com/titu1994/MLSTM-FCN/releases/download/v1.0.1/daily_sport-20180329T000808Z-001.zip"
      ],
      "execution_count": 0,
      "outputs": []
    },
    {
      "cell_type": "code",
      "metadata": {
        "id": "ZQJ7tJHvKPnC",
        "colab_type": "code",
        "colab": {}
      },
      "source": [
        "# unzip it\n",
        "! unzip daily_sport-20180329T000808Z-001.zip"
      ],
      "execution_count": 0,
      "outputs": []
    },
    {
      "cell_type": "code",
      "metadata": {
        "id": "ypcFwv29K64C",
        "colab_type": "code",
        "colab": {}
      },
      "source": [
        "# Clone my version of the classifier - I have made a few edits to the repo to make it functional\n",
        "! git clone https://github.com/CharlieBickerton/MLSTM-FCN.git"
      ],
      "execution_count": 0,
      "outputs": []
    },
    {
      "cell_type": "code",
      "metadata": {
        "id": "QrzxEW7BMu1t",
        "colab_type": "code",
        "colab": {}
      },
      "source": [
        "# copy the contents of the unzipped dataset in the the repo\n",
        "! cp  -a ./daily_sport/. ./MLSTM-FCN/data/daily_sport"
      ],
      "execution_count": 0,
      "outputs": []
    },
    {
      "cell_type": "code",
      "metadata": {
        "id": "W80E0sppPYJ1",
        "colab_type": "code",
        "colab": {}
      },
      "source": [
        "# move inside the dir and install the requirements\n",
        "% cd MLSTM-FCN/\n",
        "! pip install -r requirements.txt"
      ],
      "execution_count": 0,
      "outputs": []
    },
    {
      "cell_type": "code",
      "metadata": {
        "id": "VywluLOMND6C",
        "colab_type": "code",
        "colab": {}
      },
      "source": [
        "% cd MLSTM-FCN/\n",
        "\n",
        "! sudo python daily_sport.py"
      ],
      "execution_count": 0,
      "outputs": []
    },
    {
      "cell_type": "markdown",
      "metadata": {
        "id": "9t_1l35w6D8Y",
        "colab_type": "text"
      },
      "source": [
        "## Results\n",
        "This classifier run for 500 epochs (< 1hr of training) results in with a final accuracy of 0.994 on 19 classes!"
      ]
    }
  ]
}